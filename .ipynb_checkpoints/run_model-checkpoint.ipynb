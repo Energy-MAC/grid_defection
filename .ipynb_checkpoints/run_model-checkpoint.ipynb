{
 "cells": [
  {
   "cell_type": "code",
   "execution_count": 1,
   "metadata": {},
   "outputs": [
    {
     "ename": "SyntaxError",
     "evalue": "invalid syntax (<ipython-input-1-e059d91f6aa3>, line 6)",
     "output_type": "error",
     "traceback": [
      "\u001b[1;36m  File \u001b[1;32m\"<ipython-input-1-e059d91f6aa3>\"\u001b[1;36m, line \u001b[1;32m6\u001b[0m\n\u001b[1;33m    @everywhere using JuMP, DataFrames, Gurobi, Queryverse\u001b[0m\n\u001b[1;37m                    ^\u001b[0m\n\u001b[1;31mSyntaxError\u001b[0m\u001b[1;31m:\u001b[0m invalid syntax\n"
     ]
    }
   ],
   "source": [
    "#Set-up files\n",
    "\n",
    "#Start parallelization process\n",
    "addprocs()\n",
    "\n",
    "@everywhere using JuMP, DataFrames, Gurobi, Queryverse"
   ]
  },
  {
   "cell_type": "code",
   "execution_count": null,
   "metadata": {},
   "outputs": [],
   "source": [
    "# Set-working directory\n",
    "#DIR = \"C:\\\\Users\\\\will-\\\\GoogleDrive\\\\UCBerkeley\\\\Research\\\\Papers\\\\2018 Off-grid\\\\\"\n",
    "DIR = \"C:\\\\Users\\\\Will\\\\GoogleDrive\\\\UCBerkeley\\\\Research\\\\Papers\\\\2018 Off-grid\\\\\"\n",
    "OUT = \"out\"\n",
    "INPUT = \"in\""
   ]
  },
  {
   "cell_type": "code",
   "execution_count": null,
   "metadata": {},
   "outputs": [],
   "source": [
    "##### CREATE MODEL RUN ######\n",
    "# Set constants\n",
    "LOAD_SHED = [0.25, 0.05, 0]\n",
    "BAT_COST = 500 # $/kWh\n",
    "PV_COST = 3000 # $/kW\n",
    "BAT_EFF = 0.92\n",
    "#annual rates\n",
    "int_rate = 0.06 # percentage interest rate\n",
    "bat_life = 10 # years\n",
    "sol_life = 25 # years\n",
    "BAT_RATE = int_rate / (1 - (1+int_rate)^(-bat_life))\n",
    "PV_RATE = int_rate / (1 - (1+int_rate)^(-sol_life))\n",
    "NEM = 0.12\n",
    "VOS = 0.03\n",
    "\n",
    "# identify geography IDs to loop through\n",
    "ID_G = load(DIR * INPUT * \"\\\\id.csv\") |> DataFrame\n",
    "\n"
   ]
  },
  {
   "cell_type": "code",
   "execution_count": null,
   "metadata": {},
   "outputs": [],
   "source": [
    "#Run Model\n",
    "# Create parallelization\n",
    "timing = @elapsed outputs = pmap(1:length(LOAD_SHED)*length(ID_G[1])) do i #\n",
    "    solar_opt(ID_G, LOAD_SHED, BAT_COST, BAT_RATE, BAT_EFF, PV_COST, PV_RATE, NEM, DIR, INPUT, i) \n",
    "end"
   ]
  },
  {
   "cell_type": "code",
   "execution_count": null,
   "metadata": {},
   "outputs": [],
   "source": [
    "# Collect results\n",
    "\n",
    "#write status\n",
    "array = outputs |> @map(x->x[1]) |> collect \n",
    "df = DataFrame(status = array) \n",
    "save(DIR * OUT * \"\\\\status_v5.csv\", df) \n",
    "\n",
    "#write results table\n",
    "array = outputs |> @map(x->x[2]) |> collect\n",
    "for i = 2:length(array) \n",
    "    df = array[1]\n",
    "    df = append!(df, array[i])\n",
    "end\n",
    "save(DIR * OUT * \"\\\\results_v5.csv\", df)\n",
    "\n",
    "#write outcome table\n",
    "array = outputs |> @map(x->x[3]) |> collect\n",
    "for i = 2:length(array) \n",
    "    df = array[1]\n",
    "    df = append!(df, array[i])\n",
    "end\n",
    "save(DIR * OUT * \"\\\\outcome_v5.csv\", df)"
   ]
  }
 ],
 "metadata": {
  "kernelspec": {
   "display_name": "Python 2",
   "language": "python",
   "name": "python2"
  },
  "language_info": {
   "codemirror_mode": {
    "name": "ipython",
    "version": 2
   },
   "file_extension": ".py",
   "mimetype": "text/x-python",
   "name": "python",
   "nbconvert_exporter": "python",
   "pygments_lexer": "ipython2",
   "version": "2.7.15"
  }
 },
 "nbformat": 4,
 "nbformat_minor": 2
}
