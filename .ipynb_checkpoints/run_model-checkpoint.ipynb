{
 "cells": [
  {
   "cell_type": "code",
   "execution_count": 106,
   "metadata": {},
   "outputs": [],
   "source": [
    "using JuMP, DataFrames, Gurobi, FileIO, TextParse, CSVFiles, Clp\n",
    "\n",
    "# Set-working directory\n",
    "#DIR = \"C:\\\\Users\\\\will-\\\\GoogleDrive\\\\UCBerkeley\\\\Research\\\\Papers\\\\2018 Off-grid\\\\\"\n",
    "#DIR = \"C:\\\\Users\\\\Will\\\\GoogleDrive\\\\UCBerkeley\\\\Research\\\\Papers\\\\2018 Off-grid\\\\Analysis\\\\\"\n",
    "DIR = \"G:\\\\Team Drives\\\\grid_defect_data\\\\\"\n",
    "OUT = \"Analysis\\\\out\"\n",
    "INPUT = \"Analysis\\\\in\"\n",
    "\n",
    "##### CREATE MODEL RUN ######\n",
    "# Set constants\n",
    "LOAD_SHED = [0.25, 0.0001]\n",
    "BAT_COST = 500 # $/kWh\n",
    "PV_COST = 3000 # $/kW\n",
    "BAT_EFF = 0.92\n",
    "#annual rates\n",
    "int_rate = 0.03 # percentage interest rate\n",
    "bat_life = 20 # years\n",
    "sol_life = 25 # years\n",
    "BAT_RATE = int_rate / (1 - (1+int_rate)^(-bat_life))\n",
    "PV_RATE = int_rate / (1 - (1+int_rate)^(-sol_life));\n"
   ]
  },
  {
   "cell_type": "code",
   "execution_count": 12,
   "metadata": {},
   "outputs": [
    {
     "data": {
      "text/html": [
       "<table class=\"data-frame\"><thead><tr><th></th><th></th><th>row_in_2</th><th>county</th><th>state</th><th>lat.x</th><th>lon</th><th>timezone</th><th>elevation</th><th>tz</th><th>ID</th><th>lat.y</th><th>long</th></tr></thead><tbody><tr><th>1</th><td>3152</td><td>901</td><td>allen</td><td>ky</td><td>36.731</td><td>-86.1466</td><td>-6</td><td>244</td><td>US/Central</td><td>746716</td><td>36.983</td><td>-86.433</td></tr><tr><th>2</th><td>3153</td><td>901</td><td>barren</td><td>ky</td><td>36.9383</td><td>-85.9236</td><td>-6</td><td>218</td><td>US/Central</td><td>746716</td><td>36.983</td><td>-86.433</td></tr><tr><th>3</th><td>3141</td><td>900</td><td>benton</td><td>tn</td><td>36.0874</td><td>-88.0521</td><td>-6</td><td>154</td><td>US/Central</td><td>746710</td><td>36.667</td><td>-87.483</td></tr></tbody></table>"
      ],
      "text/plain": [
       "3×12 DataFrames.DataFrame. Omitted printing of 5 columns\n",
       "│ Row │      │ row_in_2 │ county │ state │ lat.x   │ lon      │ timezone │\n",
       "├─────┼──────┼──────────┼────────┼───────┼─────────┼──────────┼──────────┤\n",
       "│ 1   │ 3152 │ 901      │ allen  │ ky    │ 36.731  │ -86.1466 │ -6       │\n",
       "│ 2   │ 3153 │ 901      │ barren │ ky    │ 36.9383 │ -85.9236 │ -6       │\n",
       "│ 3   │ 3141 │ 900      │ benton │ tn    │ 36.0874 │ -88.0521 │ -6       │"
      ]
     },
     "execution_count": 12,
     "metadata": {},
     "output_type": "execute_result"
    }
   ],
   "source": [
    "# identify geography IDs to loop through\n",
    "ID_G = load(DIR * INPUT * \"\\\\optimization_list.csv\") |> DataFrame"
   ]
  },
  {
   "cell_type": "code",
   "execution_count": 107,
   "metadata": {},
   "outputs": [
    {
     "data": {
      "text/plain": [
       "solar_opt (generic function with 1 method)"
      ]
     },
     "execution_count": 107,
     "metadata": {},
     "output_type": "execute_result"
    }
   ],
   "source": [
    "script = \"C:\\\\Users\\\\wgorman\\\\Desktop\\\\grid_defection\\\\\"\n",
    "include(script * \"optimization_model.jl\")"
   ]
  },
  {
   "cell_type": "code",
   "execution_count": null,
   "metadata": {},
   "outputs": [],
   "source": [
    "#Run Model\n",
    "timing = @elapsed for i in 1:2\n",
    "    \n",
    "    result, outcome = solar_opt(ID_G, LOAD_SHED, BAT_COST, BAT_RATE, BAT_EFF, PV_COST, PV_RATE, DIR, INPUT, i) \n",
    "    \n",
    "    if (i == 1)\n",
    "        global results = result\n",
    "    else\n",
    "        append!(results, result)\n",
    "    end\n",
    "    \n",
    "    if (i == 1)\n",
    "        global outcomes = outcome\n",
    "    else\n",
    "        append!(outcomes, outcome)\n",
    "    end\n",
    "\n",
    "    print(i)\n",
    "end"
   ]
  },
  {
   "cell_type": "code",
   "execution_count": 104,
   "metadata": {},
   "outputs": [],
   "source": [
    "save(DIR * OUT * \"\\\\outcomes.csv\", outcomes)"
   ]
  },
  {
   "cell_type": "code",
   "execution_count": 55,
   "metadata": {},
   "outputs": [],
   "source": [
    "save(DIR * OUT * \"\\\\results.csv\", results)"
   ]
  },
  {
   "cell_type": "code",
   "execution_count": 105,
   "metadata": {},
   "outputs": [
    {
     "data": {
      "text/html": [
       "<table class=\"data-frame\"><thead><tr><th></th><th>pv</th><th>storage</th><th>shed_frac</th><th>id</th><th>load</th><th>ann_cost</th><th>solar_tot</th><th>pv_curtail</th><th>shed_tot</th></tr></thead><tbody><tr><th>1</th><td>8.66796</td><td>21.2503</td><td>0.25</td><td>BASE_allen_ky</td><td>1.15748e5</td><td>2960.55</td><td>1.06575e5</td><td>11753.7</td><td>28936.9</td></tr><tr><th>2</th><td>20.565</td><td>434.978</td><td>0.0001</td><td>BASE_allen_ky</td><td>1.15748e5</td><td>23787.9</td><td>2.52852e5</td><td>1.09421e5</td><td>11.5748</td></tr></tbody></table>"
      ],
      "text/plain": [
       "2×9 DataFrames.DataFrame. Omitted printing of 3 columns\n",
       "│ Row │ pv      │ storage │ shed_frac │ id            │ load      │ ann_cost │\n",
       "├─────┼─────────┼─────────┼───────────┼───────────────┼───────────┼──────────┤\n",
       "│ 1   │ 8.66796 │ 21.2503 │ 0.25      │ BASE_allen_ky │ 1.15748e5 │ 2960.55  │\n",
       "│ 2   │ 20.565  │ 434.978 │ 0.0001    │ BASE_allen_ky │ 1.15748e5 │ 23787.9  │"
      ]
     },
     "execution_count": 105,
     "metadata": {},
     "output_type": "execute_result"
    }
   ],
   "source": [
    "results"
   ]
  },
  {
   "cell_type": "code",
   "execution_count": null,
   "metadata": {},
   "outputs": [],
   "source": []
  }
 ],
 "metadata": {
  "kernelspec": {
   "display_name": "Julia 0.6.4",
   "language": "julia",
   "name": "julia-0.6"
  },
  "language_info": {
   "file_extension": ".jl",
   "mimetype": "application/julia",
   "name": "julia",
   "version": "0.6.4"
  }
 },
 "nbformat": 4,
 "nbformat_minor": 2
}
