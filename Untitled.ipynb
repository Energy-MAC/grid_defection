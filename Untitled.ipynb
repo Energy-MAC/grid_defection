{
 "cells": [
  {
   "cell_type": "code",
   "execution_count": null,
   "metadata": {},
   "outputs": [],
   "source": [
    "using Distributed\n",
    "\n",
    "addprocs(3)\n",
    "\n",
    "@everywhere using  DataFrames, Clp, FileIO, TextParse, CSVFiles, JuMP"
   ]
  },
  {
   "cell_type": "code",
   "execution_count": null,
   "metadata": {},
   "outputs": [],
   "source": []
  }
 ],
 "metadata": {
  "kernelspec": {
   "display_name": "Julia 1.1.1",
   "language": "julia",
   "name": "julia-1.1"
  }
 },
 "nbformat": 4,
 "nbformat_minor": 2
}
