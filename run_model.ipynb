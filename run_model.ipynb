{
 "cells": [
  {
   "cell_type": "code",
   "execution_count": 106,
   "metadata": {},
   "outputs": [],
   "source": [
    "using JuMP, DataFrames, Gurobi, FileIO, TextParse, CSVFiles, Clp\n",
    "\n",
    "# Set-working directory\n",
    "#DIR = \"C:\\\\Users\\\\will-\\\\GoogleDrive\\\\UCBerkeley\\\\Research\\\\Papers\\\\2018 Off-grid\\\\\"\n",
    "#DIR = \"C:\\\\Users\\\\Will\\\\GoogleDrive\\\\UCBerkeley\\\\Research\\\\Papers\\\\2018 Off-grid\\\\Analysis\\\\\"\n",
    "DIR = \"G:\\\\Team Drives\\\\grid_defect_data\\\\\"\n",
    "OUT = \"Analysis\\\\out\"\n",
    "INPUT = \"Analysis\\\\in\"\n",
    "\n",
    "##### CREATE MODEL RUN ######\n",
    "# Set constants\n",
    "LOAD_SHED = [0.25, 0.0001]\n",
    "BAT_COST = 500 # $/kWh\n",
    "PV_COST = 3000 # $/kW\n",
    "BAT_EFF = 0.92\n",
    "#annual rates\n",
    "int_rate = 0.03 # percentage interest rate\n",
    "bat_life = 20 # years\n",
    "sol_life = 25 # years\n",
    "BAT_RATE = int_rate / (1 - (1+int_rate)^(-bat_life))\n",
    "PV_RATE = int_rate / (1 - (1+int_rate)^(-sol_life));\n"
   ]
  },
  {
   "cell_type": "code",
   "execution_count": 12,
   "metadata": {},
   "outputs": [
    {
     "data": {
      "text/html": [
       "<table class=\"data-frame\"><thead><tr><th></th><th></th><th>row_in_2</th><th>county</th><th>state</th><th>lat.x</th><th>lon</th><th>timezone</th><th>elevation</th><th>tz</th><th>ID</th><th>lat.y</th><th>long</th></tr></thead><tbody><tr><th>1</th><td>3152</td><td>901</td><td>allen</td><td>ky</td><td>36.731</td><td>-86.1466</td><td>-6</td><td>244</td><td>US/Central</td><td>746716</td><td>36.983</td><td>-86.433</td></tr><tr><th>2</th><td>3153</td><td>901</td><td>barren</td><td>ky</td><td>36.9383</td><td>-85.9236</td><td>-6</td><td>218</td><td>US/Central</td><td>746716</td><td>36.983</td><td>-86.433</td></tr><tr><th>3</th><td>3141</td><td>900</td><td>benton</td><td>tn</td><td>36.0874</td><td>-88.0521</td><td>-6</td><td>154</td><td>US/Central</td><td>746710</td><td>36.667</td><td>-87.483</td></tr></tbody></table>"
      ],
      "text/plain": [
       "3×12 DataFrames.DataFrame. Omitted printing of 5 columns\n",
       "│ Row │      │ row_in_2 │ county │ state │ lat.x   │ lon      │ timezone │\n",
       "├─────┼──────┼──────────┼────────┼───────┼─────────┼──────────┼──────────┤\n",
       "│ 1   │ 3152 │ 901      │ allen  │ ky    │ 36.731  │ -86.1466 │ -6       │\n",
       "│ 2   │ 3153 │ 901      │ barren │ ky    │ 36.9383 │ -85.9236 │ -6       │\n",
       "│ 3   │ 3141 │ 900      │ benton │ tn    │ 36.0874 │ -88.0521 │ -6       │"
      ]
     },
     "execution_count": 12,
     "metadata": {},
     "output_type": "execute_result"
    }
   ],
   "source": [
    "# identify geography IDs to loop through\n",
    "ID_G = load(DIR * INPUT * \"\\\\optimization_list.csv\") |> DataFrame"
   ]
  },
  {
   "cell_type": "code",
   "execution_count": 112,
   "metadata": {},
   "outputs": [
    {
     "data": {
      "text/plain": [
       "solar_opt (generic function with 1 method)"
      ]
     },
     "execution_count": 112,
     "metadata": {},
     "output_type": "execute_result"
    }
   ],
   "source": [
    "script = \"C:\\\\Users\\\\wgorman\\\\Desktop\\\\grid_defection\\\\\"\n",
    "include(script * \"optimization_model.jl\")"
   ]
  },
  {
   "cell_type": "code",
   "execution_count": 113,
   "metadata": {},
   "outputs": [
    {
     "name": "stdout",
     "output_type": "stream",
     "text": [
      "Academic license - for non-commercial use only\n",
      "Optimize a model with 394204 rows, 394205 columns and 1219896 nonzeros\n",
      "Coefficient statistics:\n",
      "  Matrix range     [5e-06, 1e+00]\n",
      "  Objective range  [3e+01, 2e+02]\n",
      "  Bounds range     [0e+00, 0e+00]\n",
      "  RHS range        [5e-01, 3e+04]\n",
      "\n",
      "Concurrent LP optimizer: dual simplex and barrier\n",
      "Showing barrier log only...\n",
      "\n",
      "Presolve removed 7 rows and 78846 columns\n",
      "Presolve time: 1.47s\n",
      "Presolved: 394197 rows, 315359 columns, 1141041 nonzeros\n",
      "\n",
      "Ordering time: 0.09s\n",
      "\n",
      "Barrier statistics:\n",
      " Dense cols : 2\n",
      " AA' NZ     : 9.834e+05\n",
      " Factor NZ  : 4.712e+06 (roughly 300 MBytes of memory)\n",
      " Factor Ops : 7.063e+07 (less than 1 second per iteration)\n",
      " Threads    : 3\n",
      "\n",
      "                  Objective                Residual\n",
      "Iter       Primal          Dual         Primal    Dual     Compl     Time\n",
      "   0   9.49056207e+04  0.00000000e+00  3.10e+07 0.00e+00  1.16e+02     2s\n",
      "   1   2.12956315e+05  3.32448131e+03  7.87e+06 1.28e-01  4.51e+01     3s\n",
      "   2   2.52091863e+05  1.40090138e+03  7.32e+05 1.94e-02  6.91e+00     3s\n",
      "   3   1.97365950e+05 -4.12325113e+03  1.47e+05 4.71e-03  1.82e+00     3s\n",
      "   4   1.39772956e+05 -4.75222160e+03  6.48e+04 1.57e-03  6.90e-01     4s\n",
      "   5   9.55190620e+04 -4.06560146e+03  3.04e+04 7.68e-04  3.37e-01     4s\n",
      "   6   5.87216747e+04 -2.19071375e+03  1.38e+04 2.05e-04  1.31e-01     5s\n",
      "   7   9.78144244e+03  4.30159037e+02  7.32e+02 2.23e-06  1.52e-02     5s\n",
      "   8   4.47204335e+03  1.05732208e+03  2.17e+02 1.54e-12  5.47e-03     6s\n",
      "   9   3.36805026e+03  1.31596683e+03  1.25e+02 2.26e-12  3.28e-03     6s\n",
      "  10   3.05862154e+03  1.45669077e+03  9.83e+01 1.86e-12  2.56e-03     6s\n",
      "  11   2.74422427e+03  1.54248918e+03  7.00e+01 1.68e-12  1.92e-03     7s\n",
      "  12   2.57313938e+03  1.70839458e+03  5.29e+01 0.00e+00  1.38e-03     7s\n",
      "  13   2.56325179e+03  1.73656125e+03  5.17e+01 5.73e-13  1.32e-03     7s\n",
      "  14   2.45570122e+03  1.84994954e+03  3.87e+01 0.00e+00  9.65e-04     8s\n",
      "  15   2.36238612e+03  1.93529722e+03  2.65e+01 0.00e+00  6.80e-04     9s\n",
      "  16   2.30964830e+03  2.00655825e+03  1.83e+01 7.12e-13  4.83e-04     9s\n",
      "  17   2.28862589e+03  2.06510583e+03  1.48e+01 3.12e-13  3.56e-04     9s\n",
      "  18   2.25847456e+03  2.10521782e+03  9.63e+00 1.27e-12  2.44e-04    10s\n",
      "  19   2.23640844e+03  2.15226815e+03  5.63e+00 0.00e+00  1.34e-04    10s\n",
      "  20   2.22891676e+03  2.16629028e+03  4.20e+00 6.67e-13  9.97e-05    11s\n",
      "  21   2.21963052e+03  2.17995978e+03  2.41e+00 1.12e-12  6.31e-05    11s\n",
      "  22   2.21022162e+03  2.19764423e+03  5.24e-01 1.12e-14  2.00e-05    12s\n",
      "  23   2.20837201e+03  2.20521622e+03  1.67e-01 6.61e-14  5.02e-06    12s\n",
      "  24   2.20775439e+03  2.20635462e+03  6.00e-02 4.56e-13  2.23e-06    12s\n",
      "  25   2.20748484e+03  2.20693204e+03  1.31e-02 3.33e-13  8.78e-07    13s\n",
      "  26   2.20741268e+03  2.20729854e+03  2.04e-03 0.00e+00  1.81e-07    13s\n",
      "  27   2.20740414e+03  2.20738849e+03  9.25e-04 2.64e-12  2.49e-08    14s\n",
      "  28   2.20739702e+03  2.20739697e+03  2.86e-06 4.28e-12  9.27e-11    14s\n",
      "  29   2.20739700e+03  2.20739700e+03  8.61e-09 5.26e-11  9.27e-14    14s\n",
      "\n",
      "Barrier solved model in 29 iterations and 14.50 seconds\n",
      "Optimal objective 2.20739700e+03\n",
      "\n",
      "Crossover log...\n",
      "\n",
      "    3596 DPushes remaining with DInf 0.0000000e+00                15s\n",
      "       0 DPushes remaining with DInf 2.8008351e-12                16s\n",
      "\n",
      "   94758 PPushes remaining with PInf 0.0000000e+00                16s\n",
      "   45229 PPushes remaining with PInf 0.0000000e+00                23s\n",
      "   41677 PPushes remaining with PInf 0.0000000e+00                25s\n",
      "       0 PPushes remaining with PInf 0.0000000e+00                27s\n",
      "\n",
      "  Push phase complete: Pinf 0.0000000e+00, Dinf 3.1687227e-12     27s\n",
      "\n",
      "Iteration    Objective       Primal Inf.    Dual Inf.      Time\n",
      "   98357    2.2073970e+03   0.000000e+00   0.000000e+00     28s\n",
      "   98357    2.2073970e+03   0.000000e+00   0.000000e+00     28s\n",
      "\n",
      "Solved with barrier\n",
      "Solved in 98357 iterations and 28.05 seconds\n",
      "Optimal objective  2.207396996e+03\n",
      "1Academic license - for non-commercial use only\n",
      "Optimize a model with 394204 rows, 394205 columns and 1219896 nonzeros\n",
      "Coefficient statistics:\n",
      "  Matrix range     [5e-06, 1e+00]\n",
      "  Objective range  [3e+01, 2e+02]\n",
      "  Bounds range     [0e+00, 0e+00]\n",
      "  RHS range        [5e-01, 1e+01]\n",
      "\n",
      "Concurrent LP optimizer: dual simplex and barrier\n",
      "Showing barrier log only...\n",
      "\n",
      "Presolve removed 7 rows and 78846 columns\n",
      "Presolve time: 1.31s\n",
      "Presolved: 394197 rows, 315359 columns, 1141041 nonzeros\n",
      "\n",
      "Ordering time: 0.09s\n",
      "\n",
      "Barrier statistics:\n",
      " Dense cols : 2\n",
      " AA' NZ     : 9.834e+05\n",
      " Factor NZ  : 4.712e+06 (roughly 300 MBytes of memory)\n",
      " Factor Ops : 7.063e+07 (less than 1 second per iteration)\n",
      " Threads    : 3\n",
      "\n",
      "                  Objective                Residual\n",
      "Iter       Primal          Dual         Primal    Dual     Compl     Time\n",
      "   0   2.82571540e+03  0.00000000e+00  6.70e+05 0.00e+00  2.54e+00     2s\n",
      "   1   5.10140554e+03  1.49778860e+04  2.00e+05 1.07e-01  9.88e-01     2s\n",
      "   2   7.01699750e+03  2.60664585e+04  5.20e+04 3.82e-02  2.87e-01     3s\n",
      "   3   7.60602274e+03  1.63537443e+04  2.00e+04 1.41e-02  1.08e-01     3s\n",
      "   4   7.54870333e+03  1.19551954e+04  8.62e+03 6.05e-03  4.77e-02     4s\n",
      "   5   7.41681511e+03  1.09131045e+04  6.40e+03 3.75e-03  3.03e-02     5s\n",
      "   6   7.34831870e+03  1.08483323e+04  5.47e+03 3.57e-03  2.88e-02     5s\n",
      "   7   7.33610653e+03  1.06544870e+04  3.83e+03 2.95e-03  2.38e-02     5s\n",
      "   8   7.39978190e+03  1.05626336e+04  3.44e+03 2.33e-03  1.92e-02     6s\n",
      "   9   7.44719488e+03  1.05533376e+04  3.23e+03 2.24e-03  1.85e-02     6s\n",
      "  10   7.48412830e+03  1.05514034e+04  2.82e+03 2.01e-03  1.68e-02     6s\n",
      "  11   7.53186109e+03  1.05626516e+04  2.46e+03 1.85e-03  1.57e-02     7s\n",
      "  12   7.58538627e+03  1.05971010e+04  2.22e+03 1.68e-03  1.43e-02     7s\n",
      "  13   7.67655382e+03  1.08257753e+04  1.87e+03 1.07e-03  9.10e-03     8s\n",
      "  14   7.76321268e+03  1.08439466e+04  1.72e+03 1.05e-03  8.97e-03     8s\n",
      "  15   7.78744968e+03  1.09452896e+04  1.63e+03 9.01e-04  7.65e-03     9s\n",
      "  16   7.81612103e+03  1.09996990e+04  1.57e+03 8.09e-04  6.87e-03     9s\n",
      "  17   7.86552484e+03  1.10232190e+04  1.42e+03 7.87e-04  6.66e-03     9s\n",
      "  18   7.91303443e+03  1.11073097e+04  1.36e+03 7.35e-04  6.29e-03    10s\n",
      "  19   7.95291002e+03  1.11381212e+04  1.27e+03 7.13e-04  6.10e-03    10s\n",
      "  20   7.99643262e+03  1.12893163e+04  1.20e+03 6.32e-04  5.35e-03    11s\n",
      "  21   8.04687766e+03  1.13120616e+04  1.13e+03 6.14e-04  5.21e-03    11s\n",
      "  22   8.08485551e+03  1.13274677e+04  1.09e+03 5.99e-04  5.08e-03    12s\n",
      "  23   8.10877403e+03  1.13827873e+04  1.06e+03 5.71e-04  4.85e-03    12s\n",
      "  24   8.14552197e+03  1.14210300e+04  1.04e+03 5.48e-04  4.63e-03    12s\n",
      "  25   8.19762720e+03  1.14325316e+04  9.94e+02 5.39e-04  4.55e-03    13s\n",
      "  26   8.24048038e+03  1.15073270e+04  9.48e+02 5.16e-04  4.36e-03    13s\n",
      "  27   8.36132072e+03  1.15580090e+04  8.82e+02 4.72e-04  3.94e-03    14s\n",
      "  28   8.40430133e+03  1.16251202e+04  8.45e+02 4.56e-04  3.80e-03    14s\n",
      "  29   8.46406221e+03  1.16486881e+04  8.17e+02 4.35e-04  3.64e-03    15s\n",
      "  30   8.48269435e+03  1.17116610e+04  8.00e+02 4.23e-04  3.53e-03    15s\n",
      "  31   8.52434088e+03  1.17331555e+04  7.81e+02 4.10e-04  3.42e-03    15s\n",
      "  32   8.59247784e+03  1.17413375e+04  7.51e+02 3.99e-04  3.32e-03    16s\n",
      "  33   8.72039615e+03  1.17262334e+04  6.66e+02 3.81e-04  3.24e-03    16s\n",
      "  34   8.72451792e+03  1.17360067e+04  6.63e+02 3.74e-04  3.17e-03    17s\n",
      "  35   8.76197552e+03  1.17117568e+04  6.39e+02 3.41e-04  2.85e-03    17s\n",
      "  36   8.82329485e+03  1.17141432e+04  6.16e+02 3.26e-04  2.72e-03    18s\n",
      "  37   8.85922744e+03  1.17128150e+04  5.84e+02 3.20e-04  2.70e-03    18s\n",
      "  38   8.87113181e+03  1.17086118e+04  5.78e+02 3.14e-04  2.65e-03    19s\n",
      "  39   8.89496837e+03  1.16577947e+04  5.67e+02 2.67e-04  2.08e-03    19s\n",
      "  40   8.90110044e+03  1.16511380e+04  5.65e+02 2.62e-04  2.05e-03    19s\n",
      "  41   8.90714606e+03  1.16476531e+04  5.63e+02 2.60e-04  2.03e-03    20s\n",
      "  42   2.40289566e+05  0.00000000e+00  7.88e+07 0.00e+00  1.00e+06    20s\n",
      "  43   7.18155769e+05  4.89826451e+07  2.86e+07 5.15e+02  6.11e+05    21s\n",
      "  44   1.03173854e+06  5.13245529e+07  2.74e+06 8.38e+01  8.93e+04    21s\n",
      "  45   1.14511709e+06  1.52178563e+07  5.03e+05 2.31e+01  2.45e+04    22s\n",
      "  46   1.17581954e+06  4.12291093e+06  1.04e+05 6.08e+00  6.51e+03    22s\n",
      "  47   1.18098765e+06  1.46707519e+04  3.73e+02 3.24e-02  3.74e+01    23s\n",
      "  48   9.50814953e+05 -7.51519800e+03  9.17e+01 7.08e-03  9.09e+00    23s\n",
      "  49   7.17723464e+05 -8.22354676e+03  4.90e+01 5.94e-03  7.11e+00    23s\n",
      "  50   5.95225528e+05 -9.71378751e+03  3.14e+01 3.91e-03  4.71e+00    24s\n",
      "  51   4.55011414e+05 -9.60481456e+03  1.50e+01 3.04e-03  3.38e+00    24s\n",
      "  52   3.70514906e+05 -8.20090342e+03  9.04e+00 1.77e-03  1.99e+00    25s\n",
      "  53   2.55808932e+05 -4.28043802e+03  3.47e+00 3.99e-04  6.77e-01    25s\n",
      "  54   6.10685402e+04  4.43722793e+02  2.15e-01 6.23e-07  9.80e-02    26s\n",
      "  55   2.90115243e+04  2.44176969e+03  9.31e-02 1.54e-12  4.21e-02    26s\n",
      "  56   2.05940486e+04  3.26051054e+03  5.90e-02 3.37e-12  2.75e-02    26s\n",
      "  57   2.04744747e+04  6.49385336e+03  5.51e-02 2.77e-12  2.22e-02    27s\n",
      "  58   1.91772350e+04  1.36312502e+04  1.35e-02 7.30e-13  8.79e-03    27s\n",
      "  59   1.89975325e+04  1.55167432e+04  1.22e-02 1.32e-12  5.52e-03    28s\n",
      "  60   1.86475665e+04  1.75408647e+04  5.73e-03 7.20e-13  1.76e-03    28s\n",
      "  61   1.81320666e+04  1.80660848e+04  3.20e-04 2.13e-14  1.05e-04    29s\n",
      "  62   1.80961451e+04  1.80951792e+04  7.68e-08 1.58e-12  1.53e-06    29s\n",
      "  63   1.80960053e+04  1.80960053e+04  6.05e-11 1.72e-12  6.44e-11    29s\n",
      "\n",
      "Barrier solved model in 63 iterations and 29.44 seconds\n",
      "Optimal objective 1.80960053e+04\n",
      "\n",
      "Crossover log...\n",
      "\n",
      "       0 DPushes remaining with DInf 0.0000000e+00                30s\n",
      "\n",
      "  157290 PPushes remaining with PInf 0.0000000e+00                30s\n",
      "       0 PPushes remaining with PInf 0.0000000e+00                33s\n",
      "\n",
      "  Push phase complete: Pinf 0.0000000e+00, Dinf 8.8595797e-14     33s\n",
      "\n",
      "Iteration    Objective       Primal Inf.    Dual Inf.      Time\n",
      "  157636    1.8096005e+04   0.000000e+00   0.000000e+00     33s\n",
      "  157636    1.8096005e+04   0.000000e+00   0.000000e+00     34s\n",
      "\n",
      "Solved with barrier\n",
      "Solved in 157636 iterations and 33.81 seconds\n",
      "Optimal objective  1.809600531e+04\n",
      "2"
     ]
    },
    {
     "data": {
      "text/plain": [
       "66.186840404"
      ]
     },
     "execution_count": 113,
     "metadata": {},
     "output_type": "execute_result"
    }
   ],
   "source": [
    "#Run Model\n",
    "timing = @elapsed for i in 1:2\n",
    "    \n",
    "    result, outcome = solar_opt(ID_G, LOAD_SHED, BAT_COST, BAT_RATE, BAT_EFF, PV_COST, PV_RATE, DIR, INPUT, i) \n",
    "    \n",
    "    if (i == 1)\n",
    "        global results = result\n",
    "    else\n",
    "        append!(results, result)\n",
    "    end\n",
    "    \n",
    "    if (i == 1)\n",
    "        global outcomes = outcome\n",
    "    else\n",
    "        append!(outcomes, outcome)\n",
    "    end\n",
    "\n",
    "    print(i)\n",
    "end"
   ]
  },
  {
   "cell_type": "code",
   "execution_count": 115,
   "metadata": {},
   "outputs": [],
   "source": [
    "save(DIR * OUT * \"\\\\outcomes_v3.csv\", outcomes)"
   ]
  },
  {
   "cell_type": "code",
   "execution_count": 55,
   "metadata": {},
   "outputs": [],
   "source": [
    "save(DIR * OUT * \"\\\\results.csv\", results)"
   ]
  },
  {
   "cell_type": "code",
   "execution_count": 105,
   "metadata": {},
   "outputs": [
    {
     "data": {
      "text/html": [
       "<table class=\"data-frame\"><thead><tr><th></th><th>pv</th><th>storage</th><th>shed_frac</th><th>id</th><th>load</th><th>ann_cost</th><th>solar_tot</th><th>pv_curtail</th><th>shed_tot</th></tr></thead><tbody><tr><th>1</th><td>8.66796</td><td>21.2503</td><td>0.25</td><td>BASE_allen_ky</td><td>1.15748e5</td><td>2960.55</td><td>1.06575e5</td><td>11753.7</td><td>28936.9</td></tr><tr><th>2</th><td>20.565</td><td>434.978</td><td>0.0001</td><td>BASE_allen_ky</td><td>1.15748e5</td><td>23787.9</td><td>2.52852e5</td><td>1.09421e5</td><td>11.5748</td></tr></tbody></table>"
      ],
      "text/plain": [
       "2×9 DataFrames.DataFrame. Omitted printing of 3 columns\n",
       "│ Row │ pv      │ storage │ shed_frac │ id            │ load      │ ann_cost │\n",
       "├─────┼─────────┼─────────┼───────────┼───────────────┼───────────┼──────────┤\n",
       "│ 1   │ 8.66796 │ 21.2503 │ 0.25      │ BASE_allen_ky │ 1.15748e5 │ 2960.55  │\n",
       "│ 2   │ 20.565  │ 434.978 │ 0.0001    │ BASE_allen_ky │ 1.15748e5 │ 23787.9  │"
      ]
     },
     "execution_count": 105,
     "metadata": {},
     "output_type": "execute_result"
    }
   ],
   "source": [
    "results"
   ]
  },
  {
   "cell_type": "code",
   "execution_count": 109,
   "metadata": {},
   "outputs": [
    {
     "data": {
      "text/html": [
       "<table class=\"data-frame\"><thead><tr><th></th><th>pv</th><th>storage</th><th>shed_frac</th><th>id</th><th>load</th><th>ann_cost</th><th>solar_tot</th><th>pv_curtail</th><th>shed_tot</th></tr></thead><tbody><tr><th>1</th><td>8.69143</td><td>21.1262</td><td>0.25</td><td>BASE_allen_ky</td><td>1.15748e5</td><td>2207.4</td><td>1.06863e5</td><td>10217.2</td><td>28936.9</td></tr><tr><th>2</th><td>29.8739</td><td>385.304</td><td>0.0001</td><td>BASE_allen_ky</td><td>1.15748e5</td><td>18096.0</td><td>3.67307e5</td><td>2.32581e5</td><td>11.5748</td></tr></tbody></table>"
      ],
      "text/plain": [
       "2×9 DataFrames.DataFrame. Omitted printing of 3 columns\n",
       "│ Row │ pv      │ storage │ shed_frac │ id            │ load      │ ann_cost │\n",
       "├─────┼─────────┼─────────┼───────────┼───────────────┼───────────┼──────────┤\n",
       "│ 1   │ 8.69143 │ 21.1262 │ 0.25      │ BASE_allen_ky │ 1.15748e5 │ 2207.4   │\n",
       "│ 2   │ 29.8739 │ 385.304 │ 0.0001    │ BASE_allen_ky │ 1.15748e5 │ 18096.0  │"
      ]
     },
     "execution_count": 109,
     "metadata": {},
     "output_type": "execute_result"
    }
   ],
   "source": [
    "results"
   ]
  },
  {
   "cell_type": "code",
   "execution_count": 114,
   "metadata": {},
   "outputs": [
    {
     "data": {
      "text/html": [
       "<table class=\"data-frame\"><thead><tr><th></th><th>pv</th><th>storage</th><th>shed_frac</th><th>id</th><th>load</th><th>ann_cost</th><th>solar_tot</th><th>pv_curtail</th><th>shed_tot</th></tr></thead><tbody><tr><th>1</th><td>8.69143</td><td>21.1262</td><td>0.25</td><td>BASE_allen_ky</td><td>1.15748e5</td><td>2207.4</td><td>1.06863e5</td><td>12056.2</td><td>28936.9</td></tr><tr><th>2</th><td>29.8739</td><td>385.304</td><td>0.0001</td><td>BASE_allen_ky</td><td>1.15748e5</td><td>18096.0</td><td>3.67307e5</td><td>2.05812e5</td><td>11.5748</td></tr></tbody></table>"
      ],
      "text/plain": [
       "2×9 DataFrames.DataFrame. Omitted printing of 3 columns\n",
       "│ Row │ pv      │ storage │ shed_frac │ id            │ load      │ ann_cost │\n",
       "├─────┼─────────┼─────────┼───────────┼───────────────┼───────────┼──────────┤\n",
       "│ 1   │ 8.69143 │ 21.1262 │ 0.25      │ BASE_allen_ky │ 1.15748e5 │ 2207.4   │\n",
       "│ 2   │ 29.8739 │ 385.304 │ 0.0001    │ BASE_allen_ky │ 1.15748e5 │ 18096.0  │"
      ]
     },
     "execution_count": 114,
     "metadata": {},
     "output_type": "execute_result"
    }
   ],
   "source": [
    "results"
   ]
  },
  {
   "cell_type": "code",
   "execution_count": null,
   "metadata": {},
   "outputs": [],
   "source": []
  }
 ],
 "metadata": {
  "kernelspec": {
   "display_name": "Julia 0.6.4",
   "language": "julia",
   "name": "julia-0.6"
  },
  "language_info": {
   "file_extension": ".jl",
   "mimetype": "application/julia",
   "name": "julia",
   "version": "0.6.4"
  }
 },
 "nbformat": 4,
 "nbformat_minor": 2
}
