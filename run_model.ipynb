{
 "cells": [
  {
   "cell_type": "code",
   "execution_count": 1,
   "metadata": {},
   "outputs": [
    {
     "name": "stderr",
     "output_type": "stream",
     "text": [
      "┌ Info: Precompiling JuMP [4076af6c-e467-56ae-b986-b466b2749572]\n",
      "└ @ Base loading.jl:1186\n",
      "ERROR: LoadError: LoadError: syntax: invalid \"::\" syntax\n",
      "Stacktrace:\n",
      " [1] include at .\\boot.jl:317 [inlined]\n",
      " [2] include_relative(::Module, ::String) at .\\loading.jl:1038\n",
      " [3] include at .\\sysimg.jl:29 [inlined]\n",
      " [4] include(::String) at C:\\Users\\Will\\.julia\\packages\\JuMP\\6aWuF\\src\\JuMP.jl:13\n",
      " [5] top-level scope at none:0\n",
      " [6] include at .\\boot.jl:317 [inlined]\n",
      " [7] include_relative(::Module, ::String) at .\\loading.jl:1038\n",
      " [8] include(::Module, ::String) at .\\sysimg.jl:29\n",
      " [9] top-level scope at none:2\n",
      " [10] eval at .\\boot.jl:319 [inlined]\n",
      " [11] eval(::Expr) at .\\client.jl:389\n",
      " [12] top-level scope at .\\none:3\n",
      "in expression starting at C:\\Users\\Will\\.julia\\packages\\JuMP\\6aWuF\\src\\JuMPContainer.jl:18\n",
      "in expression starting at C:\\Users\\Will\\.julia\\packages\\JuMP\\6aWuF\\src\\JuMP.jl:55\n"
     ]
    },
    {
     "ename": "ErrorException",
     "evalue": "Failed to precompile JuMP [4076af6c-e467-56ae-b986-b466b2749572] to C:\\Users\\Will\\.julia\\compiled\\v1.0\\JuMP\\DmXqY.ji.",
     "output_type": "error",
     "traceback": [
      "Failed to precompile JuMP [4076af6c-e467-56ae-b986-b466b2749572] to C:\\Users\\Will\\.julia\\compiled\\v1.0\\JuMP\\DmXqY.ji.",
      "",
      "Stacktrace:",
      " [1] error(::String) at .\\error.jl:33",
      " [2] macro expansion at .\\logging.jl:313 [inlined]",
      " [3] compilecache(::Base.PkgId, ::String) at .\\loading.jl:1184",
      " [4] macro expansion at .\\logging.jl:311 [inlined]",
      " [5] _require(::Base.PkgId) at .\\loading.jl:941",
      " [6] require(::Base.PkgId) at .\\loading.jl:852",
      " [7] macro expansion at .\\logging.jl:311 [inlined]",
      " [8] require(::Module, ::Symbol) at .\\loading.jl:834",
      " [9] top-level scope at In[1]:1"
     ]
    }
   ],
   "source": [
    "#Set-up files\n",
    "\n",
    "#Start parallelization process\n",
    "#addprocs()\n",
    "\n",
    "#@everywhere \n",
    "\n",
    "using JuMP, DataFrames, Gurobi, Queryverse"
   ]
  },
  {
   "cell_type": "code",
   "execution_count": null,
   "metadata": {},
   "outputs": [],
   "source": [
    "# Set-working directory\n",
    "#DIR = \"C:\\\\Users\\\\will-\\\\GoogleDrive\\\\UCBerkeley\\\\Research\\\\Papers\\\\2018 Off-grid\\\\\"\n",
    "DIR = \"C:\\\\Users\\\\Will\\\\GoogleDrive\\\\UCBerkeley\\\\Research\\\\Papers\\\\2018 Off-grid\\\\\"\n",
    "OUT = \"out\"\n",
    "INPUT = \"in\""
   ]
  },
  {
   "cell_type": "code",
   "execution_count": null,
   "metadata": {},
   "outputs": [],
   "source": [
    "##### CREATE MODEL RUN ######\n",
    "# Set constants\n",
    "LOAD_SHED = [0.25, 0.05, 0]\n",
    "BAT_COST = 500 # $/kWh\n",
    "PV_COST = 3000 # $/kW\n",
    "BAT_EFF = 0.92\n",
    "#annual rates\n",
    "int_rate = 0.06 # percentage interest rate\n",
    "bat_life = 10 # years\n",
    "sol_life = 25 # years\n",
    "BAT_RATE = int_rate / (1 - (1+int_rate)^(-bat_life))\n",
    "PV_RATE = int_rate / (1 - (1+int_rate)^(-sol_life))\n",
    "NEM = 0.12\n",
    "VOS = 0.03\n",
    "\n",
    "# identify geography IDs to loop through\n",
    "ID_G = load(DIR * INPUT * \"\\\\id.csv\") |> DataFrame\n",
    "\n"
   ]
  },
  {
   "cell_type": "code",
   "execution_count": null,
   "metadata": {},
   "outputs": [],
   "source": [
    "#Run Model\n",
    "# Create parallelization\n",
    "timing = @elapsed outputs = pmap(1:length(LOAD_SHED)*length(ID_G[1])) do i #\n",
    "    solar_opt(ID_G, LOAD_SHED, BAT_COST, BAT_RATE, BAT_EFF, PV_COST, PV_RATE, NEM, DIR, INPUT, i) \n",
    "end"
   ]
  },
  {
   "cell_type": "code",
   "execution_count": null,
   "metadata": {},
   "outputs": [],
   "source": [
    "# Collect results\n",
    "\n",
    "#write status\n",
    "array = outputs |> @map(x->x[1]) |> collect \n",
    "df = DataFrame(status = array) \n",
    "save(DIR * OUT * \"\\\\status_v5.csv\", df) \n",
    "\n",
    "#write results table\n",
    "array = outputs |> @map(x->x[2]) |> collect\n",
    "for i = 2:length(array) \n",
    "    df = array[1]\n",
    "    df = append!(df, array[i])\n",
    "end\n",
    "save(DIR * OUT * \"\\\\results_v5.csv\", df)\n",
    "\n",
    "#write outcome table\n",
    "array = outputs |> @map(x->x[3]) |> collect\n",
    "for i = 2:length(array) \n",
    "    df = array[1]\n",
    "    df = append!(df, array[i])\n",
    "end\n",
    "save(DIR * OUT * \"\\\\outcome_v5.csv\", df)"
   ]
  }
 ],
 "metadata": {
  "kernelspec": {
   "display_name": "Julia 1.0.0",
   "language": "julia",
   "name": "julia-1.0"
  },
  "language_info": {
   "file_extension": ".jl",
   "mimetype": "application/julia",
   "name": "julia",
   "version": "1.0.0"
  }
 },
 "nbformat": 4,
 "nbformat_minor": 2
}
