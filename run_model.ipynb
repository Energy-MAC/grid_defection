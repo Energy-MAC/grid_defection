{
 "cells": [
  {
   "cell_type": "code",
   "execution_count": 14,
   "metadata": {},
   "outputs": [],
   "source": [
    "using JuMP, DataFrames, Gurobi, FileIO, TextParse, CSVFiles, Clp\n",
    "\n",
    "# Set-working directory\n",
    "#DIR = \"C:\\\\Users\\\\will-\\\\GoogleDrive\\\\UCBerkeley\\\\Research\\\\Papers\\\\2018 Off-grid\\\\\"\n",
    "#DIR = \"C:\\\\Users\\\\Will\\\\GoogleDrive\\\\UCBerkeley\\\\Research\\\\Papers\\\\2018 Off-grid\\\\Analysis\\\\\"\n",
    "DIR = \"G:\\\\Team Drives\\\\grid_defect_data\\\\\"\n",
    "OUT = \"Analysis\\\\out\"\n",
    "INPUT = \"Analysis\\\\in\"\n",
    "\n",
    "##### CREATE MODEL RUN ######\n",
    "# Set constants\n",
    "LOAD_SHED = [0.25, 0.0001]\n",
    "BAT_COST = 500 # $/kWh\n",
    "PV_COST = 3000 # $/kW\n",
    "BAT_EFF = 0.92\n",
    "#annual rates\n",
    "int_rate = 0.03 # percentage interest rate\n",
    "bat_life = 20 # years\n",
    "sol_life = 25 # years\n",
    "BAT_RATE = int_rate / (1 - (1+int_rate)^(-bat_life))\n",
    "PV_RATE = int_rate / (1 - (1+int_rate)^(-sol_life));\n"
   ]
  },
  {
   "cell_type": "code",
   "execution_count": 15,
   "metadata": {},
   "outputs": [
    {
     "data": {
      "text/html": [
       "<table class=\"data-frame\"><thead><tr><th></th><th></th><th>row_in_2</th><th>county</th><th>state</th><th>lat.x</th><th>lon</th><th>timezone</th><th>elevation</th><th>tz</th><th>ID</th><th>lat.y</th><th>long</th></tr></thead><tbody><tr><th>1</th><td>3152</td><td>901</td><td>allen</td><td>ky</td><td>36.731</td><td>-86.1466</td><td>-6</td><td>244</td><td>US/Central</td><td>746716</td><td>36.983</td><td>-86.433</td></tr><tr><th>2</th><td>3153</td><td>901</td><td>barren</td><td>ky</td><td>36.9383</td><td>-85.9236</td><td>-6</td><td>218</td><td>US/Central</td><td>746716</td><td>36.983</td><td>-86.433</td></tr><tr><th>3</th><td>3141</td><td>900</td><td>benton</td><td>tn</td><td>36.0874</td><td>-88.0521</td><td>-6</td><td>154</td><td>US/Central</td><td>746710</td><td>36.667</td><td>-87.483</td></tr></tbody></table>"
      ],
      "text/plain": [
       "3×12 DataFrames.DataFrame. Omitted printing of 5 columns\n",
       "│ Row │      │ row_in_2 │ county │ state │ lat.x   │ lon      │ timezone │\n",
       "├─────┼──────┼──────────┼────────┼───────┼─────────┼──────────┼──────────┤\n",
       "│ 1   │ 3152 │ 901      │ allen  │ ky    │ 36.731  │ -86.1466 │ -6       │\n",
       "│ 2   │ 3153 │ 901      │ barren │ ky    │ 36.9383 │ -85.9236 │ -6       │\n",
       "│ 3   │ 3141 │ 900      │ benton │ tn    │ 36.0874 │ -88.0521 │ -6       │"
      ]
     },
     "execution_count": 15,
     "metadata": {},
     "output_type": "execute_result"
    }
   ],
   "source": [
    "# identify geography IDs to loop through\n",
    "ID_G = load(DIR * INPUT * \"\\\\optimization_list.csv\") |> DataFrame"
   ]
  },
  {
   "cell_type": "code",
   "execution_count": 31,
   "metadata": {},
   "outputs": [
    {
     "data": {
      "text/plain": [
       "solar_opt (generic function with 1 method)"
      ]
     },
     "execution_count": 31,
     "metadata": {},
     "output_type": "execute_result"
    }
   ],
   "source": [
    "script = \"C:\\\\Users\\\\wgorman\\\\Desktop\\\\grid_defection\\\\\"\n",
    "include(script * \"optimization_model.jl\")"
   ]
  },
  {
   "cell_type": "code",
   "execution_count": 32,
   "metadata": {},
   "outputs": [
    {
     "name": "stdout",
     "output_type": "stream",
     "text": [
      "Academic license - for non-commercial use only\r\n",
      "Optimize a model with 236522 rows, 394203 columns and 904534 nonzeros\r\n",
      "Coefficient statistics:\r\n",
      "  Matrix range     [5e-06, 1e+00]\r\n",
      "  Objective range  [3e+01, 2e+02]\r\n",
      "  Bounds range     [0e+00, 0e+00]\r\n",
      "  RHS range        [5e-01, 1e+01]\r\n",
      "\r\n",
      "Concurrent LP optimizer: dual simplex and barrier\r\n",
      "Showing barrier log only...\r\n",
      "\r\n",
      "Presolve removed 2 rows and 78842 columns\r\n",
      "Presolve time: 1.02s\r\n",
      "Presolved: 236520 rows, 315361 columns, 825689 nonzeros\r\n",
      "\r\n",
      "Ordering time: 0.03s\r\n",
      "\r\n",
      "Barrier statistics:\r\n",
      " Dense cols : 2\r\n",
      " AA' NZ     : 5.103e+05\r\n",
      " Factor NZ  : 3.798e+06 (roughly 250 MBytes of memory)\r\n",
      " Factor Ops : 7.370e+07 (less than 1 second per iteration)\r\n",
      " Threads    : 3\r\n",
      "\r\n",
      "                  Objective                Residual\r\n",
      "Iter       Primal          Dual         Primal    Dual     Compl     Time\r\n",
      "   0   2.57555665e+03  0.00000000e+00  6.85e+05 0.00e+00  2.80e+00     1s\r\n",
      "   1   4.76917246e+03  1.67903586e+04  2.07e+05 1.24e-01  1.10e+00     2s\r\n",
      "   2   6.51341595e+03  4.27098878e+04  7.95e+04 4.51e-02  3.56e-01     2s\r\n",
      "   3   7.70686145e+03  2.69854387e+04  3.18e+04 1.84e-02  1.60e-01     2s\r\n",
      "   4   7.79162913e+03  1.79734003e+04  1.14e+04 9.10e-03  7.76e-02     3s\r\n",
      "   5   7.62676551e+03  1.55107654e+04  7.09e+03 6.60e-03  5.52e-02     3s\r\n",
      "   6   7.54712820e+03  1.38148384e+04  4.80e+03 4.34e-03  3.69e-02     3s\r\n",
      "   7   7.54282294e+03  1.37270480e+04  4.12e+03 4.05e-03  3.41e-02     3s\r\n",
      "   8   7.67298476e+03  1.34093632e+04  3.08e+03 3.26e-03  2.80e-02     4s\r\n",
      "   9   7.69911993e+03  1.33484145e+04  2.78e+03 2.92e-03  2.50e-02     4s\r\n",
      "  10   7.83163261e+03  1.34075615e+04  2.19e+03 2.59e-03  2.28e-02     4s\r\n",
      "  11   7.88384911e+03  1.34446270e+04  1.97e+03 2.22e-03  1.91e-02     4s\r\n",
      "  12   7.97319952e+03  1.34776402e+04  1.86e+03 2.06e-03  1.79e-02     5s\r\n",
      "  13   8.01043850e+03  1.35094493e+04  1.75e+03 1.87e-03  1.60e-02     5s\r\n",
      "  14   8.02956352e+03  1.35264444e+04  1.71e+03 1.81e-03  1.55e-02     5s\r\n",
      "  15   8.10140120e+03  1.35555650e+04  1.58e+03 1.70e-03  1.46e-02     5s\r\n",
      "  16   8.19801140e+03  1.35627752e+04  1.49e+03 1.63e-03  1.40e-02     6s\r\n",
      "  17   8.25335857e+03  1.35664700e+04  1.40e+03 1.51e-03  1.29e-02     6s\r\n",
      "  18   8.25355954e+03  1.35821980e+04  1.40e+03 1.48e-03  1.25e-02     6s\r\n",
      "  19   8.31295614e+03  1.36100629e+04  1.29e+03 1.41e-03  1.19e-02     7s\r\n",
      "  20   8.37913662e+03  1.36321049e+04  1.24e+03 1.36e-03  1.16e-02     7s\r\n",
      "  21   8.40917670e+03  1.36375713e+04  1.20e+03 1.28e-03  1.08e-02     7s\r\n",
      "  22   8.43955703e+03  1.36545283e+04  1.15e+03 1.24e-03  1.04e-02     8s\r\n",
      "  23   8.44734137e+03  1.36780617e+04  1.14e+03 1.22e-03  1.03e-02     8s\r\n",
      "  24   8.45856840e+03  1.36968933e+04  1.12e+03 1.21e-03  1.02e-02     8s\r\n",
      "  25   2.06678687e+05  0.00000000e+00  7.88e+07 0.00e+00  1.00e+06     9s\r\n",
      "  26   9.74171623e+05  8.56351029e+07  1.86e+07 2.48e+02  3.86e+05     9s\r\n",
      "  27   1.38510806e+06  4.19268726e+07  2.76e+06 4.15e+01  5.90e+04     9s\r\n",
      "  28   1.49612809e+06  9.35473666e+06  7.16e+05 8.96e+00  1.35e+04    10s\r\n",
      "  29   1.52513363e+06  2.98164597e+05  2.12e+05 2.01e-01  1.03e+03    10s\r\n",
      "  30   1.40313066e+06  2.25483693e+04  1.10e+03 1.99e-02  3.67e+01    10s\r\n",
      "  31   9.37775326e+05 -2.43990566e+03  2.93e+02 6.73e-03  1.15e+01    10s\r\n",
      "  32   5.96074308e+05 -8.95818452e+03  9.47e+01 3.01e-03  5.18e+00    11s\r\n",
      "  33   4.00914990e+05 -1.12900446e+04  3.50e+01 1.39e-03  2.39e+00    11s\r\n",
      "  34   2.56373915e+05 -1.03535966e+04  1.19e+01 5.55e-04  1.02e+00    11s\r\n",
      "  35   1.29398057e+05 -6.65601172e+03  3.53e+00 2.25e-04  3.93e-01    11s\r\n",
      "  36   3.33604881e+04  2.24912334e+03  4.94e-01 2.42e-13  6.58e-02    12s\r\n",
      "  37   2.95135583e+04  3.97855234e+03  4.25e-01 1.34e-12  5.40e-02    12s\r\n",
      "  38   2.49175265e+04  7.47693709e+03  3.33e-01 4.37e-12  3.69e-02    12s\r\n",
      "  39   2.41333429e+04  8.28326495e+03  3.08e-01 2.88e-12  3.35e-02    13s\r\n",
      "  40   2.25968921e+04  8.65946839e+03  2.57e-01 5.20e-12  2.95e-02    13s\r\n",
      "  41   2.13577318e+04  1.05819037e+04  2.06e-01 1.58e-12  2.28e-02    13s\r\n",
      "  42   2.15320905e+04  1.12701246e+04  1.99e-01 2.48e-12  2.17e-02    13s\r\n",
      "  43   1.99895210e+04  1.24042932e+04  2.86e-02 1.75e-12  1.60e-02    14s\r\n",
      "  44   1.95645576e+04  1.45203703e+04  2.25e-02 1.42e-14  1.07e-02    14s\r\n",
      "  45   1.96726604e+04  1.45227064e+04  2.13e-02 1.99e-12  1.09e-02    14s\r\n",
      "  46   1.92322496e+04  1.48331239e+04  1.74e-02 5.46e-13  9.30e-03    15s\r\n",
      "  47   1.92151301e+04  1.49453048e+04  1.72e-02 1.15e-12  9.03e-03    15s\r\n",
      "  48   1.90111354e+04  1.50198930e+04  1.54e-02 7.25e-13  8.44e-03    15s\r\n",
      "  49   1.86514603e+04  1.59235379e+04  1.26e-02 5.93e-13  5.77e-03    15s\r\n",
      "  50   1.82444859e+04  1.59680994e+04  9.29e-03 1.02e-12  4.81e-03    15s\r\n",
      "  51   1.82641167e+04  1.65959888e+04  8.94e-03 3.66e-13  3.53e-03    16s\r\n",
      "  52   1.82838492e+04  1.76999109e+04  6.34e-03 1.42e-14  1.23e-03    16s\r\n",
      "  53   1.81548129e+04  1.79558709e+04  1.90e-03 1.42e-14  4.21e-04    16s\r\n",
      "  54   1.80973151e+04  1.80913685e+04  2.93e-08 2.07e-12  1.26e-05    16s\r\n",
      "  55   1.80960066e+04  1.80960007e+04  4.43e-11 1.93e-13  1.26e-08    17s\r\n",
      "  56   1.80960053e+04  1.80960053e+04  2.74e-11 1.38e-11  1.38e-14    17s\r\n",
      "\r\n",
      "Barrier solved model in 56 iterations and 17.02 seconds\r\n",
      "Optimal objective 1.80960053e+04\r\n",
      "\r\n",
      "Crossover log...\r\n",
      "\r\n",
      "       0 DPushes remaining with DInf 1.8651747e-14                17s\r\n",
      "\r\n",
      "  157301 PPushes remaining with PInf 0.0000000e+00                17s\r\n",
      "       0 PPushes remaining with PInf 0.0000000e+00                20s\r\n",
      "\r\n",
      "  Push phase complete: Pinf 0.0000000e+00, Dinf 1.5765167e-14     20s\r\n",
      "\r\n",
      "Iteration    Objective       Primal Inf.    Dual Inf.      Time\r\n",
      "  157652    1.8096005e+04   0.000000e+00   0.000000e+00     20s\r\n",
      "  157652    1.8096005e+04   0.000000e+00   0.000000e+00     20s\r\n",
      "\r\n",
      "Solved with barrier\r\n",
      "Solved in 157652 iterations and 23.71 seconds\r\n",
      "Optimal objective  1.809600531e+04\r\n",
      "2"
     ]
    },
    {
     "data": {
      "text/plain": [
       "25.247821947"
      ]
     },
     "execution_count": 32,
     "metadata": {},
     "output_type": "execute_result"
    }
   ],
   "source": [
    "#Run Model\n",
    "timing = @elapsed for i in 2:2\n",
    "    \n",
    "    result = solar_opt(ID_G, LOAD_SHED, BAT_COST, BAT_RATE, BAT_EFF, PV_COST, PV_RATE, DIR, INPUT, i) \n",
    "    \n",
    "    if (i == 2)\n",
    "        global results = result\n",
    "    else\n",
    "        append!(results, result)\n",
    "    end\n",
    "    \n",
    "    #if (i == 2)\n",
    "    #    global outcomes = outcome\n",
    "    #else\n",
    "    #    append!(outcomes, outcome)\n",
    "    #end\n",
    "    \n",
    "   # if (i == 2)\n",
    "   #     global stati = status\n",
    "   # else\n",
    "   #     append!(stati, status)\n",
    "   # end\n",
    "\n",
    "    print(i)\n",
    "end"
   ]
  },
  {
   "cell_type": "code",
   "execution_count": 19,
   "metadata": {},
   "outputs": [],
   "source": [
    "save(DIR * OUT * \"\\\\outcomes_no_out_constraint_pv_vos.csv\", outcomes)"
   ]
  },
  {
   "cell_type": "code",
   "execution_count": 55,
   "metadata": {},
   "outputs": [],
   "source": [
    "save(DIR * OUT * \"\\\\results.csv\", results)"
   ]
  },
  {
   "cell_type": "code",
   "execution_count": 105,
   "metadata": {},
   "outputs": [
    {
     "data": {
      "text/html": [
       "<table class=\"data-frame\"><thead><tr><th></th><th>pv</th><th>storage</th><th>shed_frac</th><th>id</th><th>load</th><th>ann_cost</th><th>solar_tot</th><th>pv_curtail</th><th>shed_tot</th></tr></thead><tbody><tr><th>1</th><td>8.66796</td><td>21.2503</td><td>0.25</td><td>BASE_allen_ky</td><td>1.15748e5</td><td>2960.55</td><td>1.06575e5</td><td>11753.7</td><td>28936.9</td></tr><tr><th>2</th><td>20.565</td><td>434.978</td><td>0.0001</td><td>BASE_allen_ky</td><td>1.15748e5</td><td>23787.9</td><td>2.52852e5</td><td>1.09421e5</td><td>11.5748</td></tr></tbody></table>"
      ],
      "text/plain": [
       "2×9 DataFrames.DataFrame. Omitted printing of 3 columns\n",
       "│ Row │ pv      │ storage │ shed_frac │ id            │ load      │ ann_cost │\n",
       "├─────┼─────────┼─────────┼───────────┼───────────────┼───────────┼──────────┤\n",
       "│ 1   │ 8.66796 │ 21.2503 │ 0.25      │ BASE_allen_ky │ 1.15748e5 │ 2960.55  │\n",
       "│ 2   │ 20.565  │ 434.978 │ 0.0001    │ BASE_allen_ky │ 1.15748e5 │ 23787.9  │"
      ]
     },
     "execution_count": 105,
     "metadata": {},
     "output_type": "execute_result"
    }
   ],
   "source": [
    "results"
   ]
  },
  {
   "cell_type": "code",
   "execution_count": 109,
   "metadata": {},
   "outputs": [
    {
     "data": {
      "text/html": [
       "<table class=\"data-frame\"><thead><tr><th></th><th>pv</th><th>storage</th><th>shed_frac</th><th>id</th><th>load</th><th>ann_cost</th><th>solar_tot</th><th>pv_curtail</th><th>shed_tot</th></tr></thead><tbody><tr><th>1</th><td>8.69143</td><td>21.1262</td><td>0.25</td><td>BASE_allen_ky</td><td>1.15748e5</td><td>2207.4</td><td>1.06863e5</td><td>10217.2</td><td>28936.9</td></tr><tr><th>2</th><td>29.8739</td><td>385.304</td><td>0.0001</td><td>BASE_allen_ky</td><td>1.15748e5</td><td>18096.0</td><td>3.67307e5</td><td>2.32581e5</td><td>11.5748</td></tr></tbody></table>"
      ],
      "text/plain": [
       "2×9 DataFrames.DataFrame. Omitted printing of 3 columns\n",
       "│ Row │ pv      │ storage │ shed_frac │ id            │ load      │ ann_cost │\n",
       "├─────┼─────────┼─────────┼───────────┼───────────────┼───────────┼──────────┤\n",
       "│ 1   │ 8.69143 │ 21.1262 │ 0.25      │ BASE_allen_ky │ 1.15748e5 │ 2207.4   │\n",
       "│ 2   │ 29.8739 │ 385.304 │ 0.0001    │ BASE_allen_ky │ 1.15748e5 │ 18096.0  │"
      ]
     },
     "execution_count": 109,
     "metadata": {},
     "output_type": "execute_result"
    }
   ],
   "source": [
    "results"
   ]
  },
  {
   "cell_type": "code",
   "execution_count": 114,
   "metadata": {},
   "outputs": [
    {
     "data": {
      "text/html": [
       "<table class=\"data-frame\"><thead><tr><th></th><th>pv</th><th>storage</th><th>shed_frac</th><th>id</th><th>load</th><th>ann_cost</th><th>solar_tot</th><th>pv_curtail</th><th>shed_tot</th></tr></thead><tbody><tr><th>1</th><td>8.69143</td><td>21.1262</td><td>0.25</td><td>BASE_allen_ky</td><td>1.15748e5</td><td>2207.4</td><td>1.06863e5</td><td>12056.2</td><td>28936.9</td></tr><tr><th>2</th><td>29.8739</td><td>385.304</td><td>0.0001</td><td>BASE_allen_ky</td><td>1.15748e5</td><td>18096.0</td><td>3.67307e5</td><td>2.05812e5</td><td>11.5748</td></tr></tbody></table>"
      ],
      "text/plain": [
       "2×9 DataFrames.DataFrame. Omitted printing of 3 columns\n",
       "│ Row │ pv      │ storage │ shed_frac │ id            │ load      │ ann_cost │\n",
       "├─────┼─────────┼─────────┼───────────┼───────────────┼───────────┼──────────┤\n",
       "│ 1   │ 8.69143 │ 21.1262 │ 0.25      │ BASE_allen_ky │ 1.15748e5 │ 2207.4   │\n",
       "│ 2   │ 29.8739 │ 385.304 │ 0.0001    │ BASE_allen_ky │ 1.15748e5 │ 18096.0  │"
      ]
     },
     "execution_count": 114,
     "metadata": {},
     "output_type": "execute_result"
    }
   ],
   "source": [
    "results"
   ]
  },
  {
   "cell_type": "code",
   "execution_count": 120,
   "metadata": {},
   "outputs": [
    {
     "data": {
      "text/html": [
       "<table class=\"data-frame\"><thead><tr><th></th><th>pv</th><th>storage</th><th>shed_frac</th><th>id</th><th>load</th><th>ann_cost</th><th>solar_tot</th><th>pv_curtail</th><th>shed_tot</th></tr></thead><tbody><tr><th>1</th><td>8.69143</td><td>21.1262</td><td>0.25</td><td>BASE_allen_ky</td><td>1.15748e5</td><td>2207.4</td><td>1.06863e5</td><td>7276.39</td><td>28936.9</td></tr><tr><th>2</th><td>29.8739</td><td>385.304</td><td>0.0001</td><td>BASE_allen_ky</td><td>1.15748e5</td><td>18096.0</td><td>3.67307e5</td><td>1.98823e5</td><td>11.5748</td></tr></tbody></table>"
      ],
      "text/plain": [
       "2×9 DataFrames.DataFrame. Omitted printing of 3 columns\n",
       "│ Row │ pv      │ storage │ shed_frac │ id            │ load      │ ann_cost │\n",
       "├─────┼─────────┼─────────┼───────────┼───────────────┼───────────┼──────────┤\n",
       "│ 1   │ 8.69143 │ 21.1262 │ 0.25      │ BASE_allen_ky │ 1.15748e5 │ 2207.4   │\n",
       "│ 2   │ 29.8739 │ 385.304 │ 0.0001    │ BASE_allen_ky │ 1.15748e5 │ 18096.0  │"
      ]
     },
     "execution_count": 120,
     "metadata": {},
     "output_type": "execute_result"
    }
   ],
   "source": [
    "results"
   ]
  },
  {
   "cell_type": "code",
   "execution_count": 10,
   "metadata": {},
   "outputs": [
    {
     "data": {
      "text/html": [
       "<table class=\"data-frame\"><thead><tr><th></th><th>pv</th><th>storage</th><th>shed_frac</th><th>id</th><th>load</th><th>ann_cost</th><th>solar_tot</th><th>pv_curtail</th><th>shed_tot</th></tr></thead><tbody><tr><th>1</th><td>29.8739</td><td>385.304</td><td>0.0001</td><td>BASE_allen_ky</td><td>1.15748e5</td><td>18096.0</td><td>3.67307e5</td><td>31468.8</td><td>11.5748</td></tr></tbody></table>"
      ],
      "text/plain": [
       "1×9 DataFrames.DataFrame. Omitted printing of 3 columns\n",
       "│ Row │ pv      │ storage │ shed_frac │ id            │ load      │ ann_cost │\n",
       "├─────┼─────────┼─────────┼───────────┼───────────────┼───────────┼──────────┤\n",
       "│ 1   │ 29.8739 │ 385.304 │ 0.0001    │ BASE_allen_ky │ 1.15748e5 │ 18096.0  │"
      ]
     },
     "execution_count": 10,
     "metadata": {},
     "output_type": "execute_result"
    }
   ],
   "source": [
    "results"
   ]
  },
  {
   "cell_type": "code",
   "execution_count": 130,
   "metadata": {},
   "outputs": [
    {
     "data": {
      "text/plain": [
       ":Optimal"
      ]
     },
     "execution_count": 130,
     "metadata": {},
     "output_type": "execute_result"
    }
   ],
   "source": [
    "stati"
   ]
  },
  {
   "cell_type": "code",
   "execution_count": 33,
   "metadata": {},
   "outputs": [
    {
     "data": {
      "text/html": [
       "<table class=\"data-frame\"><thead><tr><th></th><th>pv</th><th>storage</th><th>id</th></tr></thead><tbody><tr><th>1</th><td>29.8739</td><td>385.304</td><td>BASE_allen_ky</td></tr></tbody></table>"
      ],
      "text/plain": [
       "1×3 DataFrames.DataFrame\n",
       "│ Row │ pv      │ storage │ id            │\n",
       "├─────┼─────────┼─────────┼───────────────┤\n",
       "│ 1   │ 29.8739 │ 385.304 │ BASE_allen_ky │"
      ]
     },
     "execution_count": 33,
     "metadata": {},
     "output_type": "execute_result"
    }
   ],
   "source": [
    "results"
   ]
  },
  {
   "cell_type": "code",
   "execution_count": null,
   "metadata": {},
   "outputs": [],
   "source": []
  }
 ],
 "metadata": {
  "kernelspec": {
   "display_name": "Julia 0.6.4",
   "language": "julia",
   "name": "julia-0.6"
  },
  "language_info": {
   "file_extension": ".jl",
   "mimetype": "application/julia",
   "name": "julia",
   "version": "0.6.4"
  }
 },
 "nbformat": 4,
 "nbformat_minor": 2
}
